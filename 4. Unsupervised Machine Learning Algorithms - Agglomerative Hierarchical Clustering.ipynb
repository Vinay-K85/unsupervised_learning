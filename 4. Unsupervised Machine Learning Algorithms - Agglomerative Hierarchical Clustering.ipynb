{
 "cells": [
  {
   "cell_type": "markdown",
   "metadata": {},
   "source": [
    "# Agglomerative Hierarchical Clustering"
   ]
  },
  {
   "cell_type": "code",
   "execution_count": 1,
   "metadata": {},
   "outputs": [],
   "source": [
    "# Importing necessary packages and dataset\n",
    "import pandas as pd\n",
    "from sklearn.cluster import AgglomerativeClustering\n",
    "from sklearn.datasets import make_blobs\n",
    "from scipy.cluster.hierarchy import dendrogram, ward\n",
    "from sklearn.metrics import confusion_matrix\n",
    "from sklearn.metrics import accuracy_score\n",
    "import matplotlib.pyplot as plt\n",
    "import warnings\n",
    "warnings.filterwarnings(\"ignore\")"
   ]
  },
  {
   "cell_type": "code",
   "execution_count": 2,
   "metadata": {},
   "outputs": [
    {
     "name": "stdout",
     "output_type": "stream",
     "text": [
      "Dimension of independent variables is:  (100, 2)\n"
     ]
    }
   ],
   "source": [
    "# Reading the dataset\n",
    "x, y = make_blobs()\n",
    "print(\"Dimension of independent variables is: \", x.shape)"
   ]
  },
  {
   "cell_type": "code",
   "execution_count": 3,
   "metadata": {},
   "outputs": [
    {
     "data": {
      "text/plain": [
       "array([[  4.37885414,   1.07772573],\n",
       "       [ -6.84854631,  -7.93874709],\n",
       "       [  3.59023455,  -2.25723713],\n",
       "       [  4.8323965 ,  -6.7664998 ],\n",
       "       [ -6.35830783,  -7.81031533],\n",
       "       [  4.44254094,  -7.80534881],\n",
       "       [  4.24548734,  -2.17315894],\n",
       "       [ -5.88266224,  -7.13337789],\n",
       "       [  4.52182666,  -6.01984815],\n",
       "       [  5.89210104,  -7.18055823],\n",
       "       [  2.42518268,  -0.83116021],\n",
       "       [  3.33539793,  -0.24191075],\n",
       "       [ -6.20139684,  -5.03392005],\n",
       "       [  5.56623218,  -1.19840539],\n",
       "       [  3.46429063,  -2.79791034],\n",
       "       [  4.12211075,  -6.0508768 ],\n",
       "       [  6.77807556,  -8.37654386],\n",
       "       [  3.57718588,  -7.64763323],\n",
       "       [  6.58608047,  -4.73642422],\n",
       "       [  3.38627089,   0.14888606],\n",
       "       [  4.9332126 ,  -9.09923909],\n",
       "       [ -6.17330521,  -7.72122625],\n",
       "       [  4.40306064,   0.89886503],\n",
       "       [ -5.57333968,  -6.94245617],\n",
       "       [  3.38586098,  -0.03874845],\n",
       "       [ -5.78228131,  -8.23032152],\n",
       "       [  3.612457  ,  -0.89971818],\n",
       "       [ -5.70612924,  -8.03405108],\n",
       "       [ -6.79107728,  -5.06355651],\n",
       "       [ -5.35764799,  -7.08177851],\n",
       "       [ -6.93353641,  -7.93055024],\n",
       "       [  1.69853568,  -0.01195602],\n",
       "       [  3.71921162,  -0.26109289],\n",
       "       [  3.00246827,  -3.53431447],\n",
       "       [  5.73794146,  -0.13650412],\n",
       "       [ -5.09033314,  -8.95388845],\n",
       "       [  2.95962811,  -0.61974881],\n",
       "       [ -5.32430708,  -8.15579658],\n",
       "       [  2.59996391,  -2.73142895],\n",
       "       [ -5.70697322,  -7.96567205],\n",
       "       [ -6.97612214,  -7.92901531],\n",
       "       [ -5.51238932,  -6.74272216],\n",
       "       [ -6.29688705,  -8.84557777],\n",
       "       [  5.51565591,  -6.70329848],\n",
       "       [ -5.206322  ,  -6.71358435],\n",
       "       [  1.8489145 ,  -0.41219543],\n",
       "       [  4.67360531,  -7.31318818],\n",
       "       [  4.12793313,   0.38683448],\n",
       "       [  4.26870047,  -8.49231739],\n",
       "       [ -6.95664886,  -7.17318304],\n",
       "       [  4.34841928,  -8.11669089],\n",
       "       [ -3.94716092,  -9.04705271],\n",
       "       [ -4.54015231,  -8.72244705],\n",
       "       [  5.13460375,  -7.96311274],\n",
       "       [  5.9949521 ,  -8.32991976],\n",
       "       [  3.35353942,  -0.59760132],\n",
       "       [  4.13649664,  -9.77471292],\n",
       "       [  3.27361391,  -0.05217121],\n",
       "       [  4.66243543,  -7.63747489],\n",
       "       [ -3.45225326,  -5.59436133],\n",
       "       [  4.18895034,  -7.81531685],\n",
       "       [  3.95340899,  -0.79030506],\n",
       "       [ -4.55344144,  -7.05039218],\n",
       "       [  4.8066278 ,  -2.96556347],\n",
       "       [  5.70634497,  -7.59810484],\n",
       "       [  4.25273083,  -7.55738442],\n",
       "       [  4.95477783,   0.32793337],\n",
       "       [  3.91887052,  -0.40855699],\n",
       "       [  2.59999887,  -1.29651555],\n",
       "       [ -5.5100711 ,  -8.48431216],\n",
       "       [ -5.54470663,  -7.3997191 ],\n",
       "       [ -6.16892909,  -8.19721893],\n",
       "       [  2.24377774,   0.76320043],\n",
       "       [  4.84087351,  -7.00687192],\n",
       "       [ -6.39480846,  -6.41714725],\n",
       "       [ -7.35989606, -10.084962  ],\n",
       "       [  5.06564922,  -7.04322055],\n",
       "       [  4.47768056,  -1.24162454],\n",
       "       [  5.35878332,  -7.35958968],\n",
       "       [  5.10279393,  -6.63184613],\n",
       "       [ -5.22564476,  -6.7943656 ],\n",
       "       [  7.04558377,  -6.17245161],\n",
       "       [  4.53980825,  -8.98281389],\n",
       "       [  3.33774691,  -0.44297095],\n",
       "       [  6.32239425,  -9.39243926],\n",
       "       [ -6.61721313,  -8.81867987],\n",
       "       [  4.3872462 ,  -7.76505927],\n",
       "       [  3.44224043,  -6.92858159],\n",
       "       [  4.84306265,  -0.16453307],\n",
       "       [ -5.19891237,  -7.46478721],\n",
       "       [ -6.41310719,  -8.54596194],\n",
       "       [ -5.08008287,  -8.32217019],\n",
       "       [  7.05788238,  -9.33857503],\n",
       "       [  4.12022527,   0.39462964],\n",
       "       [  5.10956289,  -0.66308458],\n",
       "       [  2.58266031,  -7.92333848],\n",
       "       [  4.86294688,  -6.64213623],\n",
       "       [  6.32966778,  -8.10348639],\n",
       "       [ -7.13190695,  -6.87127804],\n",
       "       [  1.23587602,   0.11809371]])"
      ]
     },
     "execution_count": 3,
     "metadata": {},
     "output_type": "execute_result"
    }
   ],
   "source": [
    "x"
   ]
  },
  {
   "cell_type": "code",
   "execution_count": 4,
   "metadata": {},
   "outputs": [
    {
     "data": {
      "text/plain": [
       "array([2, 0, 2, 1, 0, 1, 2, 0, 1, 1, 2, 2, 0, 2, 2, 1, 1, 1, 1, 2, 1, 0,\n",
       "       2, 0, 2, 0, 2, 0, 0, 0, 0, 2, 2, 2, 2, 0, 2, 0, 2, 0, 0, 0, 0, 1,\n",
       "       0, 2, 1, 2, 1, 0, 1, 0, 0, 1, 1, 2, 1, 2, 1, 0, 1, 2, 0, 2, 1, 1,\n",
       "       2, 2, 2, 0, 0, 0, 2, 1, 0, 0, 1, 2, 1, 1, 0, 1, 1, 2, 1, 0, 1, 1,\n",
       "       2, 0, 0, 0, 1, 2, 2, 1, 1, 1, 0, 2])"
      ]
     },
     "execution_count": 4,
     "metadata": {},
     "output_type": "execute_result"
    }
   ],
   "source": [
    "y"
   ]
  },
  {
   "cell_type": "code",
   "execution_count": 5,
   "metadata": {},
   "outputs": [],
   "source": [
    "# Performing clustering\n",
    "agg = AgglomerativeClustering(n_clusters = 3)\n",
    "ypred = agg.fit_predict(x)"
   ]
  },
  {
   "cell_type": "code",
   "execution_count": 6,
   "metadata": {},
   "outputs": [
    {
     "data": {
      "image/png": "[encoded data removed]",
      "text/plain": [
       "<Figure size 432x288 with 1 Axes>"
      ]
     },
     "metadata": {
      "needs_background": "light"
     },
     "output_type": "display_data"
    }
   ],
   "source": [
    "# Creating a dendrogram\n",
    "result = ward(x)\n",
    "dendrogram(result)\n",
    "plt.xlabel(\"Observations\")\n",
    "plt.ylabel(\"Clusters\")\n",
    "plt.show()"
   ]
  },
  {
   "cell_type": "code",
   "execution_count": 7,
   "metadata": {},
   "outputs": [],
   "source": [
    "# Sorting values in the form of dataframe\n",
    "mydata = {\"Original\": y, \"Predicted\": ypred}\n",
    "clusterdf = pd.DataFrame(mydata, columns = [\"Original\", \"Predicted\"])"
   ]
  },
  {
   "cell_type": "code",
   "execution_count": 8,
   "metadata": {},
   "outputs": [
    {
     "data": {
      "text/html": [
       "<div>\n",
       "<style scoped>\n",
       "    .dataframe tbody tr th:only-of-type {\n",
       "        vertical-align: middle;\n",
       "    }\n",
       "\n",
       "    .dataframe tbody tr th {\n",
       "        vertical-align: top;\n",
       "    }\n",
       "\n",
       "    .dataframe thead th {\n",
       "        text-align: right;\n",
       "    }\n",
       "</style>\n",
       "<table border=\"1\" class=\"dataframe\">\n",
       "  <thead>\n",
       "    <tr style=\"text-align: right;\">\n",
       "      <th></th>\n",
       "      <th>Original</th>\n",
       "      <th>Predicted</th>\n",
       "    </tr>\n",
       "  </thead>\n",
       "  <tbody>\n",
       "    <tr>\n",
       "      <th>0</th>\n",
       "      <td>2</td>\n",
       "      <td>0</td>\n",
       "    </tr>\n",
       "    <tr>\n",
       "      <th>1</th>\n",
       "      <td>0</td>\n",
       "      <td>1</td>\n",
       "    </tr>\n",
       "    <tr>\n",
       "      <th>2</th>\n",
       "      <td>2</td>\n",
       "      <td>0</td>\n",
       "    </tr>\n",
       "    <tr>\n",
       "      <th>3</th>\n",
       "      <td>1</td>\n",
       "      <td>2</td>\n",
       "    </tr>\n",
       "    <tr>\n",
       "      <th>4</th>\n",
       "      <td>0</td>\n",
       "      <td>1</td>\n",
       "    </tr>\n",
       "    <tr>\n",
       "      <th>...</th>\n",
       "      <td>...</td>\n",
       "      <td>...</td>\n",
       "    </tr>\n",
       "    <tr>\n",
       "      <th>95</th>\n",
       "      <td>1</td>\n",
       "      <td>2</td>\n",
       "    </tr>\n",
       "    <tr>\n",
       "      <th>96</th>\n",
       "      <td>1</td>\n",
       "      <td>2</td>\n",
       "    </tr>\n",
       "    <tr>\n",
       "      <th>97</th>\n",
       "      <td>1</td>\n",
       "      <td>2</td>\n",
       "    </tr>\n",
       "    <tr>\n",
       "      <th>98</th>\n",
       "      <td>0</td>\n",
       "      <td>1</td>\n",
       "    </tr>\n",
       "    <tr>\n",
       "      <th>99</th>\n",
       "      <td>2</td>\n",
       "      <td>0</td>\n",
       "    </tr>\n",
       "  </tbody>\n",
       "</table>\n",
       "<p>100 rows × 2 columns</p>\n",
       "</div>"
      ],
      "text/plain": [
       "    Original  Predicted\n",
       "0          2          0\n",
       "1          0          1\n",
       "2          2          0\n",
       "3          1          2\n",
       "4          0          1\n",
       "..       ...        ...\n",
       "95         1          2\n",
       "96         1          2\n",
       "97         1          2\n",
       "98         0          1\n",
       "99         2          0\n",
       "\n",
       "[100 rows x 2 columns]"
      ]
     },
     "execution_count": 8,
     "metadata": {},
     "output_type": "execute_result"
    }
   ],
   "source": [
    "clusterdf"
   ]
  },
  {
   "cell_type": "code",
   "execution_count": 9,
   "metadata": {},
   "outputs": [],
   "source": [
    "# Creating names of the clusters\n",
    "clusterdf[\"Original\"].replace(to_replace = int(\"0\"), value = \"Class 0\", inplace = True)\n",
    "clusterdf[\"Original\"].replace(to_replace = int(\"1\"), value = \"Class 1\", inplace = True)\n",
    "clusterdf[\"Original\"].replace(to_replace = int(\"2\"), value = \"Class 2\", inplace = True)\n",
    "\n",
    "clusterdf[\"Predicted\"].replace(to_replace = int(\"0\"), value = \"Class 0\", inplace = True)\n",
    "clusterdf[\"Predicted\"].replace(to_replace = int(\"1\"), value = \"Class 1\", inplace = True)\n",
    "clusterdf[\"Predicted\"].replace(to_replace = int(\"2\"), value = \"Class 2\", inplace = True)"
   ]
  },
  {
   "cell_type": "code",
   "execution_count": 10,
   "metadata": {},
   "outputs": [
    {
     "name": "stdout",
     "output_type": "stream",
     "text": [
      "The Confusion Matrix is: \n",
      " [[ 0 34  0]\n",
      " [ 0  0 33]\n",
      " [33  0  0]]\n"
     ]
    }
   ],
   "source": [
    "# Creating Confusion Matrix\n",
    "results = confusion_matrix(clusterdf[\"Original\"], clusterdf[\"Predicted\"])\n",
    "print(\"The Confusion Matrix is: \\n\", results)"
   ]
  },
  {
   "cell_type": "code",
   "execution_count": 11,
   "metadata": {},
   "outputs": [
    {
     "name": "stdout",
     "output_type": "stream",
     "text": [
      "The accuracy is:  0.0\n"
     ]
    }
   ],
   "source": [
    "# Determing the accuracy of the model\n",
    "score = accuracy_score(clusterdf[\"Original\"], clusterdf[\"Predicted\"])\n",
    "print(\"The accuracy is: \", score)"
   ]
  },
  {
   "cell_type": "code",
   "execution_count": null,
   "metadata": {},
   "outputs": [],
   "source": []
  }
 ],
 "metadata": {
  "kernelspec": {
   "display_name": "Python 3",
   "language": "python",
   "name": "python3"
  },
  "language_info": {
   "codemirror_mode": {
    "name": "ipython",
    "version": 3
   },
   "file_extension": ".py",
   "mimetype": "text/x-python",
   "name": "python",
   "nbconvert_exporter": "python",
   "pygments_lexer": "ipython3",
   "version": "3.8.6"
  }
 },
 "nbformat": 4,
 "nbformat_minor": 4
}
