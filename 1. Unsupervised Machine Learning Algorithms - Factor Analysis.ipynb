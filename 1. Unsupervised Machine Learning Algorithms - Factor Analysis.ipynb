{
 "cells": [
  {
   "cell_type": "markdown",
   "metadata": {},
   "source": [
    "## Factor Analysis"
   ]
  },
  {
   "cell_type": "code",
   "execution_count": 1,
   "metadata": {},
   "outputs": [],
   "source": [
    "# Import necessary packages\n",
    "from factor_analyzer import FactorAnalyzer\n",
    "from factor_analyzer.factor_analyzer import calculate_bartlett_sphericity\n",
    "from factor_analyzer.factor_analyzer import calculate_kmo\n",
    "import matplotlib.pyplot as plt\n",
    "\n",
    "import warnings\n",
    "warnings.filterwarnings(\"ignore\")"
   ]
  },
  {
   "cell_type": "code",
   "execution_count": 2,
   "metadata": {},
   "outputs": [],
   "source": [
    "# Importing the dataset\n",
    "from sklearn.datasets import load_diabetes\n",
    "diabetes = load_diabetes()"
   ]
  },
  {
   "cell_type": "code",
   "execution_count": 3,
   "metadata": {},
   "outputs": [
    {
     "name": "stdout",
     "output_type": "stream",
     "text": [
      "The description of the dataset is: \n",
      " .. _diabetes_dataset:\n",
      "\n",
      "Diabetes dataset\n",
      "----------------\n",
      "\n",
      "Ten baseline variables, age, sex, body mass index, average blood\n",
      "pressure, and six blood serum measurements were obtained for each of n =\n",
      "442 diabetes patients, as well as the response of interest, a\n",
      "quantitative measure of disease progression one year after baseline.\n",
      "\n",
      "**Data Set Characteristics:**\n",
      "\n",
      "  :Number of Instances: 442\n",
      "\n",
      "  :Number of Attributes: First 10 columns are numeric predictive values\n",
      "\n",
      "  :Target: Column 11 is a quantitative measure of disease progression one year after baseline\n",
      "\n",
      "  :Attribute Information:\n",
      "      - age     age in years\n",
      "      - sex\n",
      "      - bmi     body mass index\n",
      "      - bp      average blood pressure\n",
      "      - s1      tc, T-Cells (a type of white blood cells)\n",
      "      - s2      ldl, low-density lipoproteins\n",
      "      - s3      hdl, high-density lipoproteins\n",
      "      - s4      tch, thyroid stimulating hormone\n",
      "      - s5      ltg, lamotrigine\n",
      "      - s6      glu, blood sugar level\n",
      "\n",
      "Note: Each of these 10 feature variables have been mean centered and scaled by the standard deviation times `n_samples` (i.e. the sum of squares of each column totals 1).\n",
      "\n",
      "Source URL:\n",
      "https://www4.stat.ncsu.edu/~boos/var.select/diabetes.html\n",
      "\n",
      "For more information see:\n",
      "Bradley Efron, Trevor Hastie, Iain Johnstone and Robert Tibshirani (2004) \"Least Angle Regression,\" Annals of Statistics (with discussion), 407-499.\n",
      "(https://web.stanford.edu/~hastie/Papers/LARS/LeastAngle_2002.pdf)\n",
      "Dimension of independent variables:  (442, 10)\n"
     ]
    }
   ],
   "source": [
    "# Display the details of the dataset\n",
    "print(\"The description of the dataset is: \\n\", diabetes.DESCR)\n",
    "x = diabetes.data\n",
    "y = diabetes.target\n",
    "print(\"Dimension of independent variables: \", x.shape)"
   ]
  },
  {
   "cell_type": "code",
   "execution_count": 4,
   "metadata": {},
   "outputs": [
    {
     "name": "stdout",
     "output_type": "stream",
     "text": [
      "Chi Square value of Bartlett test:  3385.32\n",
      "p-value of Bartlett test:  0.0\n"
     ]
    }
   ],
   "source": [
    "# Applying Bartlett's test of sphericity for determining adequacy\n",
    "chisquare, p_value = calculate_bartlett_sphericity(x)\n",
    "print(\"Chi Square value of Bartlett test: \", chisquare.round(3))\n",
    "print(\"p-value of Bartlett test: \", p_value.round(3))"
   ]
  },
  {
   "cell_type": "code",
   "execution_count": 5,
   "metadata": {},
   "outputs": [
    {
     "name": "stdout",
     "output_type": "stream",
     "text": [
      "KMO model:  0.535\n",
      "KMO values:  [0.877 0.839 0.878 0.83  0.39  0.413 0.332 0.786 0.425 0.928]\n"
     ]
    }
   ],
   "source": [
    "# Applying KMO (Kaiser-Meyer-Olkin) test for determining adequacy\n",
    "kmo_values, kmo_model = calculate_kmo(x)\n",
    "print(\"KMO model: \", kmo_model.round(3))\n",
    "print(\"KMO values: \", kmo_values.round(3))"
   ]
  },
  {
   "cell_type": "markdown",
   "metadata": {},
   "source": [
    "The p-value of Bartlett's test is 0, which means that it is statistically significant. The overall KMO for our data is 0.535, which is good but not excellent. The value of both the tests indicates that Factor Analysis (FA) can be executed since the condition of adequacy is met.\n",
    "\n",
    "Kaiser criterion is an analytical approach, which is based on selecting the factor which has more significant proportion of explained variance. The eigenvalue is a good criterion for determining the optimum number of factors. Eigenvalues represent variance explained by each factor from the total variance. In general, an eigenvalue > 1 will be considered as selection criteria for the feature. Scree plot provides the visual representation of factors and eigenvalues. This helps to determine the number of factors where the curve makes an elbow."
   ]
  },
  {
   "cell_type": "code",
   "execution_count": 6,
   "metadata": {},
   "outputs": [
    {
     "data": {
      "text/plain": [
       "FactorAnalyzer(rotation_kwargs={})"
      ]
     },
     "execution_count": 6,
     "metadata": {},
     "output_type": "execute_result"
    }
   ],
   "source": [
    "# create factor analysis object and perform factor analysis\n",
    "fa = FactorAnalyzer()\n",
    "fa.fit(x)"
   ]
  },
  {
   "cell_type": "code",
   "execution_count": 7,
   "metadata": {},
   "outputs": [
    {
     "name": "stdout",
     "output_type": "stream",
     "text": [
      "Eigen values are: \n",
      " [4.024 1.492 1.206 0.955 0.662 0.603 0.537 0.434 0.078 0.009]\n",
      "Values are: \n",
      " [ 3.728  1.573  0.888  0.216  0.119  0.091  0.017 -0.075 -0.192 -0.289]\n"
     ]
    }
   ],
   "source": [
    "# determine eigenvalues\n",
    "eigen_value, value = fa.get_eigenvalues()\n",
    "print(\"Eigen values are: \\n\", eigen_value.round(3))\n",
    "print(\"Values are: \\n\", value.round(3))"
   ]
  },
  {
   "cell_type": "code",
   "execution_count": 8,
   "metadata": {},
   "outputs": [
    {
     "data": {
      "image/png": "[encoded data removed]",
      "text/plain": [
       "<Figure size 432x288 with 1 Axes>"
      ]
     },
     "metadata": {
      "needs_background": "light"
     },
     "output_type": "display_data"
    }
   ],
   "source": [
    "# create scree plot for determining optimum number of factors\n",
    "plt.scatter(range(1,x.shape[1]+1), eigen_value)\n",
    "plt.plot(range(1,x.shape[1]+1), eigen_value)\n",
    "plt.title(\"Scree Plot for diabetes dataset\")\n",
    "plt.xlabel(\"Number of Factors\")\n",
    "plt.ylabel(\"Eigen Values\")\n",
    "plt.grid()\n",
    "plt.show()"
   ]
  },
  {
   "cell_type": "markdown",
   "metadata": {},
   "source": [
    "From above we can infer that eigenvalues are greater than 1 for three variables. It means we need to perform FA considering only 3 factors (unobserved variables). The above chart depicting the number of factors and eigenvalues is drawn ranging from 1 to the maximum number of variables. Hence, the range is taken 1 till x.shape[1]+1. From this we can infer that the optimum number of factors is 3."
   ]
  },
  {
   "cell_type": "code",
   "execution_count": 9,
   "metadata": {},
   "outputs": [
    {
     "name": "stdout",
     "output_type": "stream",
     "text": [
      "Factor loadings are: \n",
      " [[ 0.046  0.109  0.49 ]\n",
      " [-0.071 -0.337  0.125]\n",
      " [ 0.002 -0.187  0.459]\n",
      " [-0.132  0.082  0.791]\n",
      " [ 1.026  0.29   0.138]\n",
      " [ 0.937 -0.065 -0.123]\n",
      " [ 0.17   1.127  0.182]\n",
      " [ 0.473 -0.737 -0.09 ]\n",
      " [ 0.186 -0.203  0.464]\n",
      " [ 0.038 -0.076  0.577]]\n"
     ]
    }
   ],
   "source": [
    "# Performing factor analysis for optimum number(3) of factors\n",
    "fa = FactorAnalyzer()\n",
    "fa.fit(x, 3)\n",
    "print(\"Factor loadings are: \\n\", fa.loadings_.round(3))"
   ]
  },
  {
   "cell_type": "code",
   "execution_count": 10,
   "metadata": {},
   "outputs": [
    {
     "name": "stdout",
     "output_type": "stream",
     "text": [
      "Variances of each factors: \n",
      " (array([2.24476785, 2.11546142, 1.71553696]), array([0.22447679, 0.21154614, 0.1715537 ]), array([0.22447679, 0.43602293, 0.60757662]))\n"
     ]
    }
   ],
   "source": [
    "# Display variance of all factors\n",
    "print(\"Variances of each factors: \\n\", fa.get_factor_variance())"
   ]
  },
  {
   "cell_type": "markdown",
   "metadata": {},
   "source": [
    "We needed to determine the highest loading of the variable a particular factor. Here we can see that the first factor is composed of two variables: 5th and 6th variables have the highest loading on the first factor. The second factor comprises 3 variables: 2nd, 7th and 8th variables having the highest loading on the second factor. The third factor comprises 5 variables: 1st, 3rd, 4th, 9th and 10th variables having the highest loading on the third factor. Thus, we are able to reduce the 10 variables in 3 factors."
   ]
  },
  {
   "cell_type": "markdown",
   "metadata": {},
   "source": [
    "**Note** There are some limitations of Factor Analysis (FA) are controversial, its interpretationscan be debatable because more than one interpretation can be made of the same data factors. Factor identification and naming of factors require domain knowledge.\n",
    "\n",
    "`It is not advisable to use a large number of variables in the study. All those studies which involve many variables should be reduced to small number of variables for effective interpretation.`"
   ]
  }
 ],
 "metadata": {
  "kernelspec": {
   "display_name": "Python 3",
   "language": "python",
   "name": "python3"
  },
  "language_info": {
   "codemirror_mode": {
    "name": "ipython",
    "version": 3
   },
   "file_extension": ".py",
   "mimetype": "text/x-python",
   "name": "python",
   "nbconvert_exporter": "python",
   "pygments_lexer": "ipython3",
   "version": "3.8.6"
  }
 },
 "nbformat": 4,
 "nbformat_minor": 4
}
