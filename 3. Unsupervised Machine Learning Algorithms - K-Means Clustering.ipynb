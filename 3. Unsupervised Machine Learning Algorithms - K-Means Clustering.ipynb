{
 "cells": [
  {
   "cell_type": "markdown",
   "metadata": {},
   "source": [
    "# K-Means Clustering"
   ]
  },
  {
   "cell_type": "markdown",
   "metadata": {},
   "source": [
    "In this algorithm it is intended to to have effective initialization and better distance function. In K-means, we have clusters and each cluster has its own centroid. Sum of square of distance between centroid and the data points  within a cluster constitutes within sum of square value for that cluster. Also, when the sum of square values for all the clustes is done, it becomes total within sum of square value for the cluster solution. \n",
    "\n",
    "As the number of cluster increases, this value keeps on decreasing but if we plot the result we may see the sum of squared distance decreases sharply upto some value of `k` and then much more slowly after that. This determines the optimum number of cluster.\n",
    "\n",
    "**Note** It is advisable to do data preprocessing before doing Factor Analysis (FA) and Cluster Analysis of the data. The different visualization techniques can also be used for understanding the relationship between the variables in the data."
   ]
  },
  {
   "cell_type": "code",
   "execution_count": 1,
   "metadata": {},
   "outputs": [],
   "source": [
    "# Importing the necessary packages and load the dataset\n",
    "import pandas as pd\n",
    "from sklearn.cluster import KMeans\n",
    "import matplotlib.pyplot as plt\n",
    "from sklearn.metrics import confusion_matrix\n",
    "from sklearn.metrics import accuracy_score\n",
    "import warnings\n",
    "warnings.filterwarnings(\"ignore\")\n",
    "\n",
    "from sklearn.datasets import load_iris"
   ]
  },
  {
   "cell_type": "code",
   "execution_count": 2,
   "metadata": {},
   "outputs": [
    {
     "name": "stdout",
     "output_type": "stream",
     "text": [
      "Dimension of dataset is:  (150, 4)\n"
     ]
    }
   ],
   "source": [
    "iris = load_iris()\n",
    "X = iris.data\n",
    "y = iris.target\n",
    "print(\"Dimension of dataset is: \", X.shape)"
   ]
  },
  {
   "cell_type": "code",
   "execution_count": 3,
   "metadata": {},
   "outputs": [],
   "source": [
    "# Elbow method to find the optimal number of clusters\n",
    "list1 = []\n",
    "for i in range(1,11):\n",
    "    kmeans = KMeans(n_clusters = i, random_state = 42)\n",
    "    kmeans.fit(X)\n",
    "    \n",
    "# inertia = WCSS (within cluster sum of squares)\n",
    "    list1.append(kmeans.inertia_)"
   ]
  },
  {
   "cell_type": "code",
   "execution_count": 4,
   "metadata": {},
   "outputs": [
    {
     "data": {
      "image/png": "[encoded data removed]",
      "text/plain": [
       "<Figure size 432x288 with 1 Axes>"
      ]
     },
     "metadata": {
      "needs_background": "light"
     },
     "output_type": "display_data"
    }
   ],
   "source": [
    "# Creating the scree plot\n",
    "plt.plot(range(1,11), list1, marker = \"o\")\n",
    "plt.title(\"Elbow Method\")\n",
    "plt.xlabel(\"Number of Clusters\")\n",
    "plt.ylabel(\"WCSS\")\n",
    "plt.show()"
   ]
  },
  {
   "cell_type": "code",
   "execution_count": 5,
   "metadata": {},
   "outputs": [
    {
     "name": "stdout",
     "output_type": "stream",
     "text": [
      "The predicted clusters are: \n",
      " [0 0 0 0 0 0 0 0 0 0 0 0 0 0 0 0 0 0 0 0 0 0 0 0 0 0 0 0 0 0 0 0 0 0 0 0 0\n",
      " 0 0 0 0 0 0 0 0 0 0 0 0 0 1 1 2 1 1 1 1 1 1 1 1 1 1 1 1 1 1 1 1 1 1 1 1 1\n",
      " 1 1 1 2 1 1 1 1 1 1 1 1 1 1 1 1 1 1 1 1 1 1 1 1 1 1 2 1 2 2 2 2 1 2 2 2 2\n",
      " 2 2 1 1 2 2 2 2 1 2 1 2 1 2 2 1 1 2 2 2 2 2 1 2 2 2 2 1 2 2 2 1 2 2 2 1 2\n",
      " 2 1]\n",
      "The centers are: \n",
      " [[5.006      3.428      1.462      0.246     ]\n",
      " [5.9016129  2.7483871  4.39354839 1.43387097]\n",
      " [6.85       3.07368421 5.74210526 2.07105263]]\n"
     ]
    }
   ],
   "source": [
    "# Fitting K-means algorithm to dataset with optimum number of clusters\n",
    "kmeans = KMeans(n_clusters = 3, random_state = 10)\n",
    "y_kmeans = kmeans.fit_predict(X)\n",
    "print(\"The predicted clusters are: \\n\", y_kmeans)\n",
    "print(\"The centers are: \\n\", kmeans.cluster_centers_)"
   ]
  },
  {
   "cell_type": "code",
   "execution_count": 6,
   "metadata": {},
   "outputs": [
    {
     "name": "stdout",
     "output_type": "stream",
     "text": [
      "Details of the predicted cluster are: \n",
      " 1    62\n",
      "0    50\n",
      "2    38\n",
      "Name: Predicted, dtype: int64\n"
     ]
    }
   ],
   "source": [
    "# Determining the number of observations in the cluster\n",
    "data = {\"Original\": y, \"Predicted\": y_kmeans}\n",
    "kmeansdf = pd.DataFrame(data, columns = [\"Original\", \"Predicted\"])\n",
    "print(\"Details of the predicted cluster are: \\n\", kmeansdf[\"Predicted\"].value_counts())"
   ]
  },
  {
   "cell_type": "code",
   "execution_count": 7,
   "metadata": {},
   "outputs": [],
   "source": [
    "# Creating names of the clusters\n",
    "kmeansdf[\"Original\"].replace(to_replace =int(\"0\"), value = \"Setosa\", inplace = True)\n",
    "kmeansdf[\"Original\"].replace(to_replace =int(\"1\"), value = \"Versicolor\", inplace = True)\n",
    "kmeansdf[\"Original\"].replace(to_replace =int(\"2\"), value = \"Virginaca\", inplace = True)\n",
    "\n",
    "kmeansdf[\"Predicted\"].replace(to_replace =int(\"0\"), value = \"Setosa\", inplace = True)\n",
    "kmeansdf[\"Predicted\"].replace(to_replace =int(\"1\"), value = \"Versicolor\", inplace = True)\n",
    "kmeansdf[\"Predicted\"].replace(to_replace =int(\"2\"), value = \"Virginaca\", inplace = True)"
   ]
  },
  {
   "cell_type": "code",
   "execution_count": 8,
   "metadata": {},
   "outputs": [
    {
     "name": "stdout",
     "output_type": "stream",
     "text": [
      "The confusion matrix is: \n",
      " [[50  0  0]\n",
      " [ 0 48  2]\n",
      " [ 0 14 36]]\n"
     ]
    }
   ],
   "source": [
    "# Creating Confusion Matrix of the model\n",
    "results = confusion_matrix(kmeansdf[\"Original\"], kmeansdf[\"Predicted\"])\n",
    "print(\"The confusion matrix is: \\n\", results)"
   ]
  },
  {
   "cell_type": "code",
   "execution_count": 9,
   "metadata": {},
   "outputs": [
    {
     "name": "stdout",
     "output_type": "stream",
     "text": [
      "The accuracy is:  0.893\n"
     ]
    }
   ],
   "source": [
    "# Determining the accuracy of the model\n",
    "score = accuracy_score(kmeansdf[\"Original\"], kmeansdf[\"Predicted\"])\n",
    "print(\"The accuracy is: \", score.round(3))"
   ]
  },
  {
   "cell_type": "code",
   "execution_count": 10,
   "metadata": {},
   "outputs": [
    {
     "data": {
      "image/png": "[encoded data removed]",
      "text/plain": [
       "<Figure size 432x288 with 4 Axes>"
      ]
     },
     "metadata": {
      "needs_background": "light"
     },
     "output_type": "display_data"
    }
   ],
   "source": [
    "# Visualizing the clusters for sepal.length and sepal.width\n",
    "plt.figure(2)\n",
    "plt.subplot(221)\n",
    "plt.scatter(X[y_kmeans == 0,0], X[y_kmeans == 0,1], c = \"red\")\n",
    "plt.scatter(X[y_kmeans == 1,0], X[y_kmeans == 1,1], c = \"blue\")\n",
    "plt.scatter(X[y_kmeans == 2,0], X[y_kmeans == 2,1], c = \"green\")\n",
    "\n",
    "plt.scatter(kmeans.cluster_centers_[:,0], kmeans.cluster_centers_[:,1], s = 200, c = \"yellow\",\n",
    "           label = \"Centroids\")\n",
    "plt.title(\"Clusters for Sepal\")\n",
    "plt.xlabel(\"Sepal Length\")\n",
    "plt.ylabel(\"Sepal Width\")\n",
    "\n",
    "# Visualizing the clusters for petal.length and petal.width\n",
    "plt.subplot(222)\n",
    "plt.scatter(X[y_kmeans == 0,2], X[y_kmeans == 0,3], c = \"red\")\n",
    "plt.scatter(X[y_kmeans == 1,2], X[y_kmeans == 1,3], c = \"blue\")\n",
    "plt.scatter(X[y_kmeans == 2,2], X[y_kmeans == 2,3], c = \"green\")\n",
    "plt.title(\"Clusters for Petal\")\n",
    "plt.xlabel(\"Petal Length\")\n",
    "plt.ylabel(\"Petal Width\")\n",
    "\n",
    "# Visualizing the clusters for sepal.length and petal.length\n",
    "plt.subplot(223)\n",
    "plt.scatter(X[y_kmeans == 0,1], X[y_kmeans == 0,3], c = \"red\", label = \"Setosa\")\n",
    "plt.scatter(X[y_kmeans == 1,1], X[y_kmeans == 1,3], c = \"blue\", label = \"Versicolor\")\n",
    "plt.scatter(X[y_kmeans == 2,1], X[y_kmeans == 2,3], c = \"green\", label = \"Virginaca\")\n",
    "plt.title(\"Clusters for Length\")\n",
    "plt.xlabel(\"Sepal Length\")\n",
    "plt.ylabel(\"Petal Length\")\n",
    "\n",
    "# Visualizing the clusters for sepal.width and petal.width\n",
    "plt.subplot(224)\n",
    "plt.scatter(X[y_kmeans == 0,0], X[y_kmeans == 0,2], c = \"red\", label = \"Setosa\")\n",
    "plt.scatter(X[y_kmeans == 1,0], X[y_kmeans == 1,2], c = \"blue\", label = \"Versicolor\")\n",
    "plt.scatter(X[y_kmeans == 2,0], X[y_kmeans == 2,2], c = \"green\", label = \"Virginaca\")\n",
    "plt.title(\"Clusters for Width\")\n",
    "plt.xlabel(\"Sepal Width\")\n",
    "plt.ylabel(\"Petal Width\")\n",
    "plt.show()"
   ]
  },
  {
   "cell_type": "code",
   "execution_count": null,
   "metadata": {},
   "outputs": [],
   "source": []
  }
 ],
 "metadata": {
  "kernelspec": {
   "display_name": "Python 3",
   "language": "python",
   "name": "python3"
  },
  "language_info": {
   "codemirror_mode": {
    "name": "ipython",
    "version": 3
   },
   "file_extension": ".py",
   "mimetype": "text/x-python",
   "name": "python",
   "nbconvert_exporter": "python",
   "pygments_lexer": "ipython3",
   "version": "3.8.6"
  }
 },
 "nbformat": 4,
 "nbformat_minor": 4
}
